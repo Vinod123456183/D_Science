{
 "cells": [
  {
   "cell_type": "code",
   "execution_count": 1,
   "id": "47b9709d-5fed-4384-bb31-0dbabaa61677",
   "metadata": {},
   "outputs": [],
   "source": [
    "import pandas as pd\n",
    "import numpy as np\n"
   ]
  },
  {
   "cell_type": "code",
   "execution_count": 2,
   "id": "c0e5ccea-ec72-4e78-a98b-c48f670a30a8",
   "metadata": {},
   "outputs": [],
   "source": [
    "\n",
    "# Creating Multi Index Objects\n"
   ]
  },
  {
   "cell_type": "code",
   "execution_count": 8,
   "id": "6fbf1507-4012-4dac-a003-4e54af766631",
   "metadata": {},
   "outputs": [
    {
     "data": {
      "text/plain": [
       "FrozenList([[1, 2], ['One', 'Two', 'Twoo']])"
      ]
     },
     "execution_count": 8,
     "metadata": {},
     "output_type": "execute_result"
    }
   ],
   "source": [
    "\n",
    "val =[(1,\"One\") , (2,\"Two\") , (2 , \"Twoo\")]\n",
    "ob = pd.MultiIndex.from_tuples(val)\n",
    "ob.levels\n"
   ]
  },
  {
   "cell_type": "code",
   "execution_count": 29,
   "id": "920383ab-43fe-43af-8e8a-11bec5df2510",
   "metadata": {},
   "outputs": [
    {
     "data": {
      "text/plain": [
       "Category     Product   \n",
       "Electronics  Laptop        100\n",
       "             Smartphone    200\n",
       "             Shirt         150\n",
       "Clothing     Laptop         80\n",
       "             Smartphone     50\n",
       "             Shirt         120\n",
       "dtype: int64"
      ]
     },
     "execution_count": 29,
     "metadata": {},
     "output_type": "execute_result"
    }
   ],
   "source": [
    "\n",
    "categories = ['Electronics', 'Clothing', 'Toys']\n",
    "products = ['Laptop', 'Smartphone', 'Shirt', 'Jeans', 'Action Figure', 'Doll']\n",
    "\n",
    "index = pd.MultiIndex.from_product([categories[:2], products[:3]], names=['Category', 'Product'])\n",
    "\n",
    "sales_data = [100, 200, 150, 80, 50, 120]\n",
    "\n",
    "s = pd.Series(sales_data, index=index)\n",
    "s"
   ]
  },
  {
   "cell_type": "code",
   "execution_count": 30,
   "id": "9a0fe9fc-7ebf-40c6-a4f6-6e9a2a6e1243",
   "metadata": {},
   "outputs": [
    {
     "data": {
      "text/plain": [
       "100"
      ]
     },
     "execution_count": 30,
     "metadata": {},
     "output_type": "execute_result"
    }
   ],
   "source": [
    "\n",
    "s[(\"Electronics\" , \"Laptop\")]\n"
   ]
  },
  {
   "cell_type": "code",
   "execution_count": 31,
   "id": "fd4f57c3-16c0-4ccb-bc08-b3419107067e",
   "metadata": {},
   "outputs": [
    {
     "data": {
      "text/plain": [
       "Product\n",
       "Laptop        100\n",
       "Smartphone    200\n",
       "Shirt         150\n",
       "dtype: int64"
      ]
     },
     "execution_count": 31,
     "metadata": {},
     "output_type": "execute_result"
    }
   ],
   "source": [
    "s[\"Electronics\"]"
   ]
  },
  {
   "cell_type": "code",
   "execution_count": 35,
   "id": "4012b837-ec31-47f2-b31a-b8cd67558c0e",
   "metadata": {},
   "outputs": [
    {
     "data": {
      "text/html": [
       "<div>\n",
       "<style scoped>\n",
       "    .dataframe tbody tr th:only-of-type {\n",
       "        vertical-align: middle;\n",
       "    }\n",
       "\n",
       "    .dataframe tbody tr th {\n",
       "        vertical-align: top;\n",
       "    }\n",
       "\n",
       "    .dataframe thead th {\n",
       "        text-align: right;\n",
       "    }\n",
       "</style>\n",
       "<table border=\"1\" class=\"dataframe\">\n",
       "  <thead>\n",
       "    <tr style=\"text-align: right;\">\n",
       "      <th>Product</th>\n",
       "      <th>Laptop</th>\n",
       "      <th>Shirt</th>\n",
       "      <th>Smartphone</th>\n",
       "    </tr>\n",
       "    <tr>\n",
       "      <th>Category</th>\n",
       "      <th></th>\n",
       "      <th></th>\n",
       "      <th></th>\n",
       "    </tr>\n",
       "  </thead>\n",
       "  <tbody>\n",
       "    <tr>\n",
       "      <th>Clothing</th>\n",
       "      <td>80</td>\n",
       "      <td>120</td>\n",
       "      <td>50</td>\n",
       "    </tr>\n",
       "    <tr>\n",
       "      <th>Electronics</th>\n",
       "      <td>100</td>\n",
       "      <td>150</td>\n",
       "      <td>200</td>\n",
       "    </tr>\n",
       "  </tbody>\n",
       "</table>\n",
       "</div>"
      ],
      "text/plain": [
       "Product      Laptop  Shirt  Smartphone\n",
       "Category                              \n",
       "Clothing         80    120          50\n",
       "Electronics     100    150         200"
      ]
     },
     "execution_count": 35,
     "metadata": {},
     "output_type": "execute_result"
    }
   ],
   "source": [
    "s.unstack()"
   ]
  },
  {
   "cell_type": "code",
   "execution_count": null,
   "id": "1053aee8-cfa7-4588-ab58-5031094964b1",
   "metadata": {},
   "outputs": [],
   "source": [
    "# Mulyi Index DataFrame"
   ]
  },
  {
   "cell_type": "code",
   "execution_count": 41,
   "id": "c974fe56-aab0-429f-840d-84b8d3c25c13",
   "metadata": {},
   "outputs": [
    {
     "data": {
      "text/plain": [
       "(8, 2)"
      ]
     },
     "execution_count": 41,
     "metadata": {},
     "output_type": "execute_result"
    }
   ],
   "source": [
    "import pandas as pd\n",
    "\n",
    "# Data\n",
    "data = {\n",
    "    'avg_package': [1, 3, 5, 7, 9, 11, 13, 15],\n",
    "    'students': [2, 4, 6, 8, 10, 12, 14, 16]\n",
    "}\n",
    "\n",
    "# MultiIndex\n",
    "index = pd.MultiIndex.from_tuples(\n",
    "    [('cse', 2019), ('cse', 2020), ('cse', 2021), ('cse', 2022),\n",
    "     ('ece', 2019), ('ece', 2020), ('ece', 2021), ('ece', 2022)],\n",
    "    names=['Course', 'Year']\n",
    ")\n",
    "\n",
    "# Create DataFrame\n",
    "df = pd.DataFrame(data, index=index)\n",
    "df.loc[\"cse\"]\n",
    "df.shape"
   ]
  },
  {
   "cell_type": "code",
   "execution_count": null,
   "id": "cfbc5781-2906-4d78-81c8-319cf228bace",
   "metadata": {},
   "outputs": [],
   "source": []
  }
 ],
 "metadata": {
  "kernelspec": {
   "display_name": "Python 3 (ipykernel)",
   "language": "python",
   "name": "python3"
  },
  "language_info": {
   "codemirror_mode": {
    "name": "ipython",
    "version": 3
   },
   "file_extension": ".py",
   "mimetype": "text/x-python",
   "name": "python",
   "nbconvert_exporter": "python",
   "pygments_lexer": "ipython3",
   "version": "3.12.7"
  }
 },
 "nbformat": 4,
 "nbformat_minor": 5
}
