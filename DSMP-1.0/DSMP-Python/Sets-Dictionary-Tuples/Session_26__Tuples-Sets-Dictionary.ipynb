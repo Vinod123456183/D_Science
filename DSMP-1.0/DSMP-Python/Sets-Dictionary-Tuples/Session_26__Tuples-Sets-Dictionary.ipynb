{
 "cells": [
  {
   "cell_type": "markdown",
   "id": "ee6b2b24-5d3c-40d0-adce-f0a84cefabc4",
   "metadata": {},
   "source": [
    "<h1>Tuples</h1>"
   ]
  },
  {
   "cell_type": "code",
   "execution_count": 11,
   "id": "388dd136-fa3b-41eb-9d68-e2aec84bc5c7",
   "metadata": {},
   "outputs": [
    {
     "name": "stdout",
     "output_type": "stream",
     "text": [
      "()\n",
      "2\n",
      "(1, 2, 3)\n",
      "(1, 2, 3, (4, 5, 6), 'Hello')\n",
      "('H', 'l', 'o', 'e', 'e', 'w')\n"
     ]
    }
   ],
   "source": [
    "t = ()\n",
    "print(t)\n",
    "\n",
    "# Imp \n",
    "t0 = (2) \n",
    "print(t0)\n",
    "\n",
    "t = (1,2,3)\n",
    "print(t) \n",
    "\n",
    "t1 = (1,2,3,(4,5,6) , \"Hello\" )\n",
    "print(t1)\n",
    "\n",
    "t2 = tuple(\"Hloeew\")\n",
    "print(t2)\n"
   ]
  },
  {
   "cell_type": "code",
   "execution_count": 28,
   "id": "cea0a0dd-5fd9-4d29-b6bd-41013465cc9f",
   "metadata": {},
   "outputs": [
    {
     "name": "stdout",
     "output_type": "stream",
     "text": [
      "1\n",
      "30\n",
      "(30, 9, 5, 4, 6, 3, 2, 1)\n",
      "(3, 6, 4, 5)\n",
      "55\n"
     ]
    }
   ],
   "source": [
    "\n",
    "t = (1,2,3,6,4,5,9,30)\n",
    "\n",
    "print(t[0])\n",
    "print(t[-1])\n",
    "print(t[::-1])\n",
    "print(t[2:6])\n",
    "\n",
    "\n",
    "t1 = (1,2,3,5,5,(55,556))\n",
    "print(t1[-1][0])\n"
   ]
  },
  {
   "cell_type": "code",
   "execution_count": 30,
   "id": "da38494c-8ff2-40a2-8d89-c7abac08933f",
   "metadata": {},
   "outputs": [],
   "source": [
    "\n",
    "# Crud Operation in Tuples\n",
    "\n",
    "t = (1,2,3,4,6)\n",
    "\n",
    "# t[0]=10        # Edit not possible\n",
    "# t.append(2)    # Apeend not possble\n",
    "# del t            # Possible to delete whole but not a singile element \n",
    "\n"
   ]
  },
  {
   "cell_type": "code",
   "execution_count": 33,
   "id": "2a2ea290-58dd-44dc-90db-ddfd8aeb2ece",
   "metadata": {},
   "outputs": [
    {
     "name": "stdout",
     "output_type": "stream",
     "text": [
      "(1, 2, 3, 4, 5, 6)\n",
      "(1, 2, 3, 1, 2, 3, 1, 2, 3)\n",
      "True\n",
      "1\n",
      "2\n",
      "3\n"
     ]
    }
   ],
   "source": [
    "\n",
    "# + * \n",
    "t = (1,2,3)\n",
    "t1 = (4,5,6)\n",
    "\n",
    "print(t+t1)\n",
    "print(t*3)\n",
    "print(1 in t)\n",
    "for i in t:\n",
    "    print(i)\n",
    "\n"
   ]
  },
  {
   "cell_type": "code",
   "execution_count": 41,
   "id": "2dfbc381-f0c5-42f9-8dfd-a893ad6ae106",
   "metadata": {},
   "outputs": [
    {
     "name": "stdout",
     "output_type": "stream",
     "text": [
      "8255\n",
      "16\n",
      "6544\n",
      "0\n",
      "2\n",
      "4\n",
      "[0, 1, 2, 5, 5, 6, 6, 7, 30, 41, 46, 55, 416, 545, 546, 6544]\n",
      "[6544, 546, 545, 416, 55, 46, 41, 30, 7, 6, 6, 5, 5, 2, 1, 0]\n"
     ]
    }
   ],
   "source": [
    "# Function\n",
    "\n",
    "t = (1,2,30,55,5,7,6,0,6,416,41,545,46,546,6544,5)\n",
    "print(sum(t))\n",
    "print(len(t))\n",
    "print(max(t))\n",
    "print(min(t))\n",
    "print(t.count(5))\n",
    "print(t.index(5))\n",
    "\n",
    "print(sorted(t))\n",
    "print(sorted(t,reverse=True))"
   ]
  },
  {
   "cell_type": "code",
   "execution_count": null,
   "id": "7ee04f1f-1400-4988-b783-4bc1b766c04e",
   "metadata": {},
   "outputs": [],
   "source": []
  },
  {
   "cell_type": "markdown",
   "id": "a8ba574e-e300-44c0-883a-610b450dcd28",
   "metadata": {},
   "source": [
    "<h1># Sets</h1>"
   ]
  },
  {
   "cell_type": "code",
   "execution_count": null,
   "id": "5225b388-b942-42ff-8026-b89baf0f378a",
   "metadata": {},
   "outputs": [],
   "source": []
  },
  {
   "cell_type": "code",
   "execution_count": 53,
   "id": "30572ce6-a78a-4c0f-915e-35e93c7a41d8",
   "metadata": {},
   "outputs": [
    {
     "name": "stdout",
     "output_type": "stream",
     "text": [
      "set()\n",
      "{'heilo', 1, 2}\n",
      "{1}\n"
     ]
    }
   ],
   "source": [
    "\n",
    "\n",
    "s = set()\n",
    "print(s)\n",
    "\n",
    "s = {1,2 , \"heilo\"}\n",
    "print(s) \n",
    "\n",
    "# s = {1,2,3 , [1,12]}\n",
    "# print(s) \n",
    "# print(s) \n",
    "\n",
    "s = {1,True}\n",
    "print(s)  #bec no duplication \n",
    "\n"
   ]
  },
  {
   "cell_type": "code",
   "execution_count": 54,
   "id": "e4c2d5fb-156d-43c8-8d3b-73b0e501fd56",
   "metadata": {},
   "outputs": [
    {
     "name": "stdout",
     "output_type": "stream",
     "text": [
      "True\n"
     ]
    }
   ],
   "source": [
    "s1={1,2,3}\n",
    "s2 = {1,3,2}\n",
    "print(s1 == s2 ) # Not in list and tuple\n"
   ]
  },
  {
   "cell_type": "code",
   "execution_count": 57,
   "id": "bd2ecc77-3bee-46c4-9adb-081bda6b7ecb",
   "metadata": {},
   "outputs": [
    {
     "name": "stdout",
     "output_type": "stream",
     "text": [
      "{1, 2, 4, 5, 6}\n",
      "{1, 2, 4, 5, 6}\n"
     ]
    }
   ],
   "source": [
    "# Set dont Contain Indexing Conecpt , neg indexing , slicing \n",
    "\n",
    "s.add(5)\n",
    "print(s) \n",
    "\n",
    "s.update([2,4,6])\n",
    "print(s) "
   ]
  },
  {
   "cell_type": "code",
   "execution_count": 58,
   "id": "fe715308-8cda-4f75-a2c2-0b4b1be94da2",
   "metadata": {},
   "outputs": [],
   "source": [
    "\n",
    "    del s \n"
   ]
  },
  {
   "cell_type": "code",
   "execution_count": 60,
   "id": "edc2699d-e059-4473-bf2c-831b7f5eee41",
   "metadata": {},
   "outputs": [
    {
     "name": "stdout",
     "output_type": "stream",
     "text": [
      "{1, 2, 3, 4, 5, 65}\n",
      "{1, 2, 4, 5, 65}\n",
      "{1, 2, 4, 65}\n",
      "{2, 4, 65}\n",
      "set()\n"
     ]
    }
   ],
   "source": [
    "s = {1,2,3,4,5,65}\n",
    "print(s)  \n",
    "s.discard(3) # item inside ki konsa delete , if no item dont throw error \n",
    "print(s) \n",
    "s.remove(5)   # item inside ki konsa delete , if no item  throw error\n",
    "print(s) \n",
    "s.pop()      # rand dele item \n",
    "print(s) \n",
    "s.clear() \n",
    "print(s) "
   ]
  },
  {
   "cell_type": "code",
   "execution_count": null,
   "id": "dddbd709-cd19-4c20-ada8-cbfec63bf37f",
   "metadata": {},
   "outputs": [],
   "source": [
    "\n",
    "# functions\n"
   ]
  },
  {
   "cell_type": "code",
   "execution_count": 70,
   "id": "986ae744-a8bb-4aec-81a2-d4587c7e91d5",
   "metadata": {},
   "outputs": [
    {
     "name": "stdout",
     "output_type": "stream",
     "text": [
      "{1, 2, 3, 4, 5, 6}\n",
      "{3, 4}\n",
      "{1, 2}\n",
      "{1, 2, 5, 6}\n",
      "False\n",
      "4\n",
      "4\n",
      "1\n",
      "10\n",
      "[4, 3, 2, 1]\n",
      "{1, 2, 3, 4, 5, 6}\n",
      "{1, 2, 3, 4, 5, 6} {3, 4, 5, 6}\n",
      "{3, 4, 5, 6}\n",
      "{3, 4, 5, 6} {3, 4, 5, 6}\n"
     ]
    },
    {
     "data": {
      "text/plain": [
       "<generator object <genexpr> at 0x00000138C45C47C0>"
      ]
     },
     "execution_count": 70,
     "metadata": {},
     "output_type": "execute_result"
    }
   ],
   "source": [
    "s1 = {1,2,3,4}\n",
    "s2 = {3,4,5,6}\n",
    "\n",
    "print(s1 | s2) # Union\n",
    "print(s1 & s2) # intersection\n",
    "print(s1 - s2) # difference\n",
    "print(s1 ^ s2) # symetric Diff\n",
    "print(1 in s2) # membership op\n",
    "\n",
    "print(len(s1))\n",
    "print(max(s1))\n",
    "print(min(s1))\n",
    "print(sum(s1))\n",
    "print(sorted(s1 , reverse=True))\n",
    "\n",
    "print(s1.union(s2)) \n",
    "(s1.update(s2))     #add permanent changes\n",
    "print(s1 , s2)\n",
    "\n",
    "print(s1.intersection(s2)) \n",
    "(s1.intersection_update(s2))     #add permanent changes\n",
    "print(s1 , s2)\n",
    "\n",
    "\n",
    "# isdisjoin , issubset , issuperset\n",
    "\n",
    "\n",
    "{i for i in range(1,11)}\n"
   ]
  },
  {
   "cell_type": "markdown",
   "id": "51904bff-e7e0-4160-8c6a-470020fce5ab",
   "metadata": {},
   "source": [
    "\n",
    "<h1>\n",
    "Dictionary \n",
    "</h1>\n"
   ]
  },
  {
   "cell_type": "code",
   "execution_count": 1,
   "id": "d2c879cc-e078-4533-97d2-f627a13c3f43",
   "metadata": {},
   "outputs": [
    {
     "name": "stdout",
     "output_type": "stream",
     "text": [
      "{}\n",
      "{'name': 'Vinod', 'age': 10}\n",
      "{'name': 'Vinod', 'age': 10, 'sucjects': {'s1': ' DSA ', 's2': 'OOPS'}}\n",
      "{'name': 'Vinod', 'age': 10, 'sucjects': {'s1': ' DSA ', 's2': 'OOPS'}, 'gen': 'Male'}\n"
     ]
    }
   ],
   "source": [
    "\n",
    "# Empty \n",
    "d = {}\n",
    "print(d)\n",
    "\n",
    "d = {\"name\":\"Vinod\" , \"age\":10}\n",
    "print(d)\n",
    "\n",
    "d = {\n",
    "    \"name\" : \"Vinod\",\n",
    "    \"age\" : 10,\n",
    "    \"sucjects\" : {\n",
    "        \"s1\"  : \" DSA \" ,\n",
    "        \"s2\" : \"OOPS\"\n",
    "    }\n",
    "}\n",
    "\n",
    "print(d)\n",
    "\n",
    "# add new in dict\n",
    "\n",
    "d[\"gen\"]=\"Male\"\n",
    "print(d)"
   ]
  },
  {
   "cell_type": "markdown",
   "id": "fd33f41f-dd22-44bf-8960-a44711480744",
   "metadata": {},
   "source": [
    "\n",
    "Dictionary Comphrensions\n"
   ]
  },
  {
   "cell_type": "code",
   "execution_count": 2,
   "id": "68414db5-b646-4c51-89d4-47f9acc85537",
   "metadata": {},
   "outputs": [
    {
     "name": "stdout",
     "output_type": "stream",
     "text": [
      "name\n",
      "age\n",
      "sucjects\n",
      "gen\n"
     ]
    },
    {
     "data": {
      "text/plain": [
       "{None}"
      ]
     },
     "execution_count": 2,
     "metadata": {},
     "output_type": "execute_result"
    }
   ],
   "source": [
    "{print(i) for i in d }"
   ]
  },
  {
   "cell_type": "code",
   "execution_count": null,
   "id": "63b5de7f-5d12-432c-b67f-61f2b1386863",
   "metadata": {},
   "outputs": [],
   "source": []
  },
  {
   "cell_type": "code",
   "execution_count": 5,
   "id": "e46ee43d-a276-4502-9a18-2c952b0d0e19",
   "metadata": {},
   "outputs": [
    {
     "data": {
      "text/plain": [
       "{1: 1, 2: 4, 3: 9, 4: 16, 5: 25, 6: 36, 7: 49, 8: 64, 9: 81, 10: 100}"
      ]
     },
     "execution_count": 5,
     "metadata": {},
     "output_type": "execute_result"
    }
   ],
   "source": [
    "\n",
    "# Print first 10 nos and there squares\n",
    "\n",
    "{ i:i**2 for i in range(1,11)}\n"
   ]
  },
  {
   "cell_type": "code",
   "execution_count": 8,
   "id": "468aa9c5-c88f-4572-a7bc-53812e198ae5",
   "metadata": {},
   "outputs": [
    {
     "name": "stdout",
     "output_type": "stream",
     "text": [
      "dict_items([('delhi', 1000), ('mumbai', 2000), ('uk', 3000)])\n"
     ]
    },
    {
     "data": {
      "text/plain": [
       "{'delhi': 220.0, 'mumbai': 440.0, 'uk': 660.0}"
      ]
     },
     "execution_count": 8,
     "metadata": {},
     "output_type": "execute_result"
    }
   ],
   "source": [
    "\n",
    "distance = {\"delhi\" : 1000 , \"mumbai\" : 2000 , \"uk\" : 3000}\n",
    "print(distance.items())\n",
    "\n",
    "{key:val*0.22 for (key,val) in distance.items() }\n"
   ]
  },
  {
   "cell_type": "code",
   "execution_count": null,
   "id": "41985fe7-137c-4728-9e1e-103ac6a4a2e1",
   "metadata": {},
   "outputs": [],
   "source": []
  },
  {
   "cell_type": "code",
   "execution_count": 9,
   "id": "eda904d1-4f64-47f8-8c05-22d1e05f9673",
   "metadata": {},
   "outputs": [],
   "source": [
    "\n",
    "days = [\"Sunday\", \"Monday\", \"Tuesday\", \"Wednesday\", \"Thursday\", \"Friday\", \"Saturday\"]\n",
    "\n",
    "temperatures = [30, 32, 31, 29, 28, 27, 33]  \n"
   ]
  },
  {
   "cell_type": "code",
   "execution_count": 13,
   "id": "8c514e98-6be7-4434-a0ae-0adf5ab7ab73",
   "metadata": {},
   "outputs": [
    {
     "data": {
      "text/plain": [
       "{'Sunday': 30,\n",
       " 'Monday': 32,\n",
       " 'Tuesday': 31,\n",
       " 'Wednesday': 29,\n",
       " 'Thursday': 28,\n",
       " 'Friday': 27,\n",
       " 'Saturday': 33}"
      ]
     },
     "execution_count": 13,
     "metadata": {},
     "output_type": "execute_result"
    }
   ],
   "source": [
    "{key:val for (key,val) in zip(days , temperatures)} "
   ]
  },
  {
   "cell_type": "code",
   "execution_count": 16,
   "id": "7f4cf2d9-10f2-4c62-95f1-35c0851106bc",
   "metadata": {},
   "outputs": [
    {
     "data": {
      "text/plain": [
       "{'phone': 10, 'MAC': 100, 'iphone': 102}"
      ]
     },
     "execution_count": 16,
     "metadata": {},
     "output_type": "execute_result"
    }
   ],
   "source": [
    "products = {\"phone\":10 , \"MAC\" : 100 , \"iphone\":102 , \"pc\":0}\n",
    "{key:val for (key,val) in products.items() if val != 0 }"
   ]
  },
  {
   "cell_type": "code",
   "execution_count": 19,
   "id": "957d332c-0e3f-4b78-a294-5e8359663a19",
   "metadata": {},
   "outputs": [
    {
     "data": {
      "text/plain": [
       "{2: {1: 2, 2: 4, 3: 6, 4: 8, 5: 10, 6: 12, 7: 14, 8: 16, 9: 18, 10: 20},\n",
       " 3: {1: 3, 2: 6, 3: 9, 4: 12, 5: 15, 6: 18, 7: 21, 8: 24, 9: 27, 10: 30},\n",
       " 4: {1: 4, 2: 8, 3: 12, 4: 16, 5: 20, 6: 24, 7: 28, 8: 32, 9: 36, 10: 40}}"
      ]
     },
     "execution_count": 19,
     "metadata": {},
     "output_type": "execute_result"
    }
   ],
   "source": [
    "{\n",
    "    i:{j:i*j for j in range(1,11)} for i in range(2,5)\n",
    "}"
   ]
  },
  {
   "cell_type": "code",
   "execution_count": null,
   "id": "b46b6ea7-c114-4445-8187-c104c855e753",
   "metadata": {},
   "outputs": [],
   "source": []
  }
 ],
 "metadata": {
  "kernelspec": {
   "display_name": "Python 3 (ipykernel)",
   "language": "python",
   "name": "python3"
  },
  "language_info": {
   "codemirror_mode": {
    "name": "ipython",
    "version": 3
   },
   "file_extension": ".py",
   "mimetype": "text/x-python",
   "name": "python",
   "nbconvert_exporter": "python",
   "pygments_lexer": "ipython3",
   "version": "3.12.7"
  }
 },
 "nbformat": 4,
 "nbformat_minor": 5
}
