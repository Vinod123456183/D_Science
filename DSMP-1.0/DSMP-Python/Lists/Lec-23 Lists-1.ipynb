{
 "cells": [
  {
   "cell_type": "code",
   "execution_count": 8,
   "id": "e08d84dd-808f-4dfe-bb95-60f3bf4a5ef8",
   "metadata": {},
   "outputs": [
    {
     "name": "stdout",
     "output_type": "stream",
     "text": [
      "[]\n",
      "[]\n",
      "[1, 2, 3, 6, 'fsds']\n",
      "[[1, 2, 3, 6, 'fsds'], [1, 2, 3, 6, 'fsds']]\n",
      "[1, 2, 3, [1, 2, 3]]\n",
      "[[[], []], [[], []]]\n",
      "['H', 'e', 'l', 'l', 'o']\n"
     ]
    }
   ],
   "source": [
    "# Print Empty List\n",
    "l=[]\n",
    "print(l)\n",
    "print([])\n",
    "\n",
    "# Print 1D List\n",
    "l=[1,2,3,6,\"fsds\"]\n",
    "print(l)\n",
    "\n",
    "# Print 2D List\n",
    "l=[ [1,2,3,6,\"fsds\"], [1,2,3,6,\"fsds\"] ]\n",
    "print(l)\n",
    "\n",
    "# Print Hetrogenous List\n",
    "l=[ 1,2,3,[1,2,3]  ]\n",
    "print(l)\n",
    "\n",
    "\n",
    "# Print 3D Homogenous  List\n",
    "l=[ [ [] , [] ] , [ [] , [] ] ]\n",
    "print(l)\n",
    "\n",
    "print(list(\"Hello\"))"
   ]
  },
  {
   "cell_type": "code",
   "execution_count": 9,
   "id": "dedd0c46-9f99-4236-87e6-f81db55ed8d1",
   "metadata": {},
   "outputs": [],
   "source": [
    "# Positive indexing go from left to right and start from 0\n",
    "# Negative indexing go from  right to left  and start from -1"
   ]
  },
  {
   "cell_type": "code",
   "execution_count": 1,
   "id": "04c25763-e41a-4e9b-9691-6e821567f7ce",
   "metadata": {},
   "outputs": [
    {
     "name": "stdout",
     "output_type": "stream",
     "text": [
      "44\n"
     ]
    }
   ],
   "source": [
    "l = [1,2,3,[5,44]]\n",
    "print(l[3][1])"
   ]
  },
  {
   "cell_type": "code",
   "execution_count": 10,
   "id": "51a9d72c-e0bf-4756-aa15-2fdb2974cb5d",
   "metadata": {},
   "outputs": [
    {
     "name": "stdout",
     "output_type": "stream",
     "text": [
      "2\n",
      "[5, 7, 8, 9, 2, 3]\n",
      "[2, 4, 6]\n",
      "[6, 5, 4, 3, 2, 1]\n"
     ]
    }
   ],
   "source": [
    "l=[[[1,2],[3,4]]]\n",
    "print(l[0][0][1])\n",
    "\n",
    "\n",
    "# last is not included\n",
    "l = [5,7,8,9,2,3]\n",
    "print(l[0:])\n",
    "\n",
    "l=[1,2,3,4,5,6]\n",
    "print(l[1::2])\n",
    "\n",
    "print(l[::-1])"
   ]
  },
  {
   "cell_type": "code",
   "execution_count": 21,
   "id": "88867654-9e03-4eb2-9460-4299a5c8c65a",
   "metadata": {},
   "outputs": [
    {
     "name": "stdout",
     "output_type": "stream",
     "text": [
      "[1, 5, 9, 55]\n",
      "[1, 5, 9, [11, 55, 66]]\n",
      "[1, 2, 3, 6, 11, 1111, 11]\n",
      "[1, 2, 3, 5, 'delhi', 'G', 'O', 'A', 'A', 'G']\n",
      "['delhi', 1, 2, 3, 4]\n"
     ]
    }
   ],
   "source": [
    "# Append\n",
    "l = [1,5,9]\n",
    "l.append(55)\n",
    "print(l)\n",
    "\n",
    "\n",
    "# append  only add one item so it added whole list \n",
    "l = [1,5,9]\n",
    "l.append([11,55,66])\n",
    "print(l)\n",
    "\n",
    "\n",
    "# extend  , it breaks into peaces\n",
    "l = [1,2,3,6]\n",
    "l.extend([11,1111,11])\n",
    "print(l)\n",
    "\n",
    "\n",
    "# extend\n",
    "l=[1,2,3,5,\"delhi\"]\n",
    "l.extend(\"GOAAG\")\n",
    "print(l)\n",
    "\n",
    "\n",
    "# insert\n",
    "l=[1,2,3,4]\n",
    "l.insert(0,\"delhi\")\n",
    "print(l)"
   ]
  },
  {
   "cell_type": "code",
   "execution_count": 26,
   "id": "5ab0e6e1-b12c-4203-bf34-b731fc6e41e6",
   "metadata": {},
   "outputs": [
    {
     "name": "stdout",
     "output_type": "stream",
     "text": [
      "[100, 100, 200, 55]\n"
     ]
    }
   ],
   "source": [
    "# Editing\n",
    "\n",
    "l=[1,2,3,4]\n",
    "\n",
    "l[0]=100\n",
    "l[-1]=55\n",
    "l[1:3] = [100,200]\n",
    "\n",
    "print(l)\n"
   ]
  },
  {
   "cell_type": "code",
   "execution_count": 39,
   "id": "9f8cb01f-f7a9-404a-8c70-96a4380f1bb0",
   "metadata": {},
   "outputs": [
    {
     "name": "stdout",
     "output_type": "stream",
     "text": [
      "[10, 40, 50]\n",
      "[1, 2, 3, 1, 5, 6]\n",
      "[1, 2, 3, 4, 1]\n",
      "[]\n"
     ]
    }
   ],
   "source": [
    "# Delete\n",
    "\n",
    "# del\n",
    "# l=[10,20]\n",
    "# print(l)\n",
    "# del(l)\n",
    "# print(l)\n",
    "\n",
    "# del  = remove by indexing\n",
    "l=[10,20,30,40,50]\n",
    "del(l[1:3])\n",
    "print(l)\n",
    "\n",
    "# remove = remove by value\n",
    "\n",
    "l=[1,2,3,4,1,5,6]\n",
    "l.remove(4)\n",
    "print(l)\n",
    "\n",
    "# pop\n",
    "l=[1,2,3,4,1,5,6]\n",
    "l.pop()\n",
    "l.pop()\n",
    "print(l)\n",
    "\n",
    "# clear\n",
    "l=[55,88,99,464]\n",
    "l.clear()\n",
    "print(l)"
   ]
  },
  {
   "cell_type": "code",
   "execution_count": 51,
   "id": "be935da2-5e10-4847-9042-f7f5b1fe5ece",
   "metadata": {},
   "outputs": [
    {
     "name": "stdout",
     "output_type": "stream",
     "text": [
      "[10, 20, 30, 11, 112]\n",
      "[10, 20, 30, 10, 20, 30, 10, 20, 30]\n",
      "False\n",
      "True\n",
      "1\n",
      "5\n",
      "89\n",
      "5\n",
      "[[10, 2.0, 54], [10, 55]]\n",
      "[[545, 5455], [54, 962, 53]]\n"
     ]
    }
   ],
   "source": [
    "# List OPERATION\n",
    " # -loop\n",
    "    # -aritehmeitc (+,*)\n",
    "        # -membership\n",
    "\n",
    "l=[10,20,30]\n",
    "l1=[11,112]\n",
    "print(l+l1)\n",
    "\n",
    "\n",
    "l=[10,20,30]\n",
    "print(l*3)\n",
    "\n",
    "l=[10,2.2,6,60 , [44,66]]\n",
    "print(44 in l)\n",
    "print([44,66] in l)\n",
    "\n",
    "\n",
    "\n",
    "l = [1,5,89,5]\n",
    "for i in l:\n",
    "    print(i)\n",
    "\n",
    "\n",
    "\n",
    "l = [  [[10,2.0,54] , [10,55]]   ,  [[545,5455] , [54,962,53]] ]\n",
    "for i in l:\n",
    "    print(i)\n"
   ]
  },
  {
   "cell_type": "code",
   "execution_count": 58,
   "id": "928e04b3-92a4-4fc1-8b4e-37fecb25af9b",
   "metadata": {},
   "outputs": [
    {
     "name": "stdout",
     "output_type": "stream",
     "text": [
      "4\n",
      "-5\n",
      "65\n",
      "[65, 5, 1, -5]\n"
     ]
    }
   ],
   "source": [
    "# len , min , max , sorted = are universal\n",
    "\n",
    "l = [1,5,65,-5]\n",
    "print(len(l))\n",
    "print(min(l))\n",
    "print(max(l))\n",
    "print(sorted(l , reverse=True))\n"
   ]
  },
  {
   "cell_type": "code",
   "execution_count": 60,
   "id": "23bda6a6-9eb7-41f0-b13f-4600a9c770c0",
   "metadata": {},
   "outputs": [
    {
     "name": "stdout",
     "output_type": "stream",
     "text": [
      "3\n",
      "2\n"
     ]
    }
   ],
   "source": [
    "\n",
    "l = [1,5,6,6,2,5,9,3,69,6]\n",
    "print(l.count(6))\n",
    "print(l.index(6))\n",
    " \n"
   ]
  },
  {
   "cell_type": "code",
   "execution_count": null,
   "id": "eaa9ccc0-0601-4340-a6b6-1698a48270e7",
   "metadata": {},
   "outputs": [],
   "source": [
    "# List Comphrension\n",
    "\n",
    "l = [1,2,34,6]\n"
   ]
  }
 ],
 "metadata": {
  "kernelspec": {
   "display_name": "Python 3 (ipykernel)",
   "language": "python",
   "name": "python3"
  },
  "language_info": {
   "codemirror_mode": {
    "name": "ipython",
    "version": 3
   },
   "file_extension": ".py",
   "mimetype": "text/x-python",
   "name": "python",
   "nbconvert_exporter": "python",
   "pygments_lexer": "ipython3",
   "version": "3.12.7"
  }
 },
 "nbformat": 4,
 "nbformat_minor": 5
}
