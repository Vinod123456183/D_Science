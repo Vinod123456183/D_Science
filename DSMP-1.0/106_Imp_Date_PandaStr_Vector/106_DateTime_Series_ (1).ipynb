{
 "cells": [
  {
   "cell_type": "code",
   "execution_count": 25,
   "id": "f5f284f6-4a53-4918-8a75-84b0c0494a84",
   "metadata": {},
   "outputs": [],
   "source": [
    "\n",
    "import pandas as pd\n",
    "import numpy as np\n",
    "import datetime as dt\n"
   ]
  },
  {
   "cell_type": "code",
   "execution_count": 14,
   "id": "76152f82-1d6c-494d-b4b4-cb1a6925afa5",
   "metadata": {},
   "outputs": [
    {
     "data": {
      "text/plain": [
       "<module 'time' (built-in)>"
      ]
     },
     "execution_count": 14,
     "metadata": {},
     "output_type": "execute_result"
    }
   ],
   "source": [
    "\n",
    "# Why pandas created date time if python have already datetime\n",
    "# since the python was slow the team of numpy team decided to reduce it bec all things in pythin is slow including date time and other\n",
    "# So they created datetime64 datatime in 64bits to make it fast and implement in numpy aray\n",
    "# Pandas datetime can also habdle vectorisation also\n"
   ]
  },
  {
   "cell_type": "code",
   "execution_count": 18,
   "id": "ab5b60f4-ed09-49d1-be14-8120a19e2e62",
   "metadata": {},
   "outputs": [
    {
     "data": {
      "text/plain": [
       "array(['2015-07-04', '2015-07-05', '2015-07-06', '2015-07-07',\n",
       "       '2015-07-08', '2015-07-09', '2015-07-10', '2015-07-11',\n",
       "       '2015-07-12', '2015-07-13'], dtype='datetime64[D]')"
      ]
     },
     "execution_count": 18,
     "metadata": {},
     "output_type": "execute_result"
    }
   ],
   "source": [
    "\n",
    "import numpy as np\n",
    "date = np.array(\"2015-07-04\" , dtype=np.datetime64)\n",
    "date + np.arange(10)\n"
   ]
  },
  {
   "cell_type": "code",
   "execution_count": 17,
   "id": "062eda33-5f3c-4ee5-a9fe-c18ca07c098a",
   "metadata": {},
   "outputs": [
    {
     "data": {
      "text/plain": [
       "numpy.datetime64('2015-07-14')"
      ]
     },
     "execution_count": 17,
     "metadata": {},
     "output_type": "execute_result"
    }
   ],
   "source": []
  },
  {
   "cell_type": "code",
   "execution_count": null,
   "id": "f6d26140-e66a-4a23-bb0f-9ea6e13888d1",
   "metadata": {},
   "outputs": [],
   "source": []
  },
  {
   "cell_type": "code",
   "execution_count": 19,
   "id": "97234a9f-02e8-45fe-80e2-32d9d0212f42",
   "metadata": {},
   "outputs": [],
   "source": [
    "# DateTime index Object\n",
    "\n",
    "# Collection of Pandas timestamp"
   ]
  },
  {
   "cell_type": "code",
   "execution_count": 24,
   "id": "e0997637-8c29-4c45-aebc-8251e4831bad",
   "metadata": {},
   "outputs": [
    {
     "data": {
      "text/plain": [
       "pandas._libs.tslibs.timestamps.Timestamp"
      ]
     },
     "execution_count": 24,
     "metadata": {},
     "output_type": "execute_result"
    }
   ],
   "source": [
    "\n",
    "type(pd.DatetimeIndex([\"2121/9/9\",\"2022/5/8\",\"2020/9/3\"])[0])\n"
   ]
  },
  {
   "cell_type": "code",
   "execution_count": 27,
   "id": "3ce09f37-d87a-4e8f-83ac-b2cf8f0bda70",
   "metadata": {},
   "outputs": [
    {
     "data": {
      "text/plain": [
       "DatetimeIndex(['2022-05-06', '2022-05-06'], dtype='datetime64[ns]', freq=None)"
      ]
     },
     "execution_count": 27,
     "metadata": {},
     "output_type": "execute_result"
    }
   ],
   "source": [
    "\n",
    "pd.DatetimeIndex([dt.datetime(2022,5,6) , dt.datetime(2022,5,6)  ])\n"
   ]
  },
  {
   "cell_type": "code",
   "execution_count": 29,
   "id": "8a36e1b8-1b9d-482b-ab83-381ef1db1b3a",
   "metadata": {},
   "outputs": [
    {
     "data": {
      "text/plain": [
       "DatetimeIndex(['2022-05-06'], dtype='datetime64[ns]', freq=None)"
      ]
     },
     "execution_count": 29,
     "metadata": {},
     "output_type": "execute_result"
    }
   ],
   "source": [
    "\n",
    "pd.DatetimeIndex([pd.Timestamp(2022,5,6) ])\n"
   ]
  },
  {
   "cell_type": "code",
   "execution_count": 42,
   "id": "c03776fa-40bf-4345-9c40-27ca79ee45d4",
   "metadata": {},
   "outputs": [
    {
     "data": {
      "text/plain": [
       "DatetimeIndex(['2025-01-02', '2025-01-03', '2025-01-04', '2025-01-05',\n",
       "               '2025-01-06', '2025-01-07', '2025-01-08', '2025-01-09',\n",
       "               '2025-01-10', '2025-01-11', '2025-01-12', '2025-01-13',\n",
       "               '2025-01-14', '2025-01-15', '2025-01-16', '2025-01-17',\n",
       "               '2025-01-18', '2025-01-19', '2025-01-20', '2025-01-21',\n",
       "               '2025-01-22', '2025-01-23', '2025-01-24', '2025-01-25',\n",
       "               '2025-01-26', '2025-01-27', '2025-01-28', '2025-01-29',\n",
       "               '2025-01-30', '2025-01-31', '2025-02-01', '2025-02-02',\n",
       "               '2025-02-03', '2025-02-04', '2025-02-05', '2025-02-06',\n",
       "               '2025-02-07', '2025-02-08', '2025-02-09', '2025-02-10',\n",
       "               '2025-02-11', '2025-02-12', '2025-02-13', '2025-02-14',\n",
       "               '2025-02-15', '2025-02-16', '2025-02-17', '2025-02-18',\n",
       "               '2025-02-19', '2025-02-20', '2025-02-21', '2025-02-22',\n",
       "               '2025-02-23', '2025-02-24', '2025-02-25'],\n",
       "              dtype='datetime64[ns]', freq='D')"
      ]
     },
     "execution_count": 42,
     "metadata": {},
     "output_type": "execute_result"
    }
   ],
   "source": [
    "\n",
    "# Date rauge function\n",
    "pd.date_range(start=\"2025/1/2\" , end=\"2025/2/25\" , freq=\"D\")\n"
   ]
  },
  {
   "cell_type": "code",
   "execution_count": 43,
   "id": "f9768584-83ad-40b8-a824-c9f543442185",
   "metadata": {},
   "outputs": [
    {
     "data": {
      "text/plain": [
       "DatetimeIndex(['2025-01-02', '2025-01-03', '2025-01-06', '2025-01-07',\n",
       "               '2025-01-08', '2025-01-09', '2025-01-10', '2025-01-13',\n",
       "               '2025-01-14', '2025-01-15', '2025-01-16', '2025-01-17',\n",
       "               '2025-01-20', '2025-01-21', '2025-01-22', '2025-01-23',\n",
       "               '2025-01-24', '2025-01-27', '2025-01-28', '2025-01-29',\n",
       "               '2025-01-30', '2025-01-31', '2025-02-03', '2025-02-04',\n",
       "               '2025-02-05', '2025-02-06', '2025-02-07', '2025-02-10',\n",
       "               '2025-02-11', '2025-02-12', '2025-02-13', '2025-02-14',\n",
       "               '2025-02-17', '2025-02-18', '2025-02-19', '2025-02-20',\n",
       "               '2025-02-21', '2025-02-24', '2025-02-25'],\n",
       "              dtype='datetime64[ns]', freq='B')"
      ]
     },
     "execution_count": 43,
     "metadata": {},
     "output_type": "execute_result"
    }
   ],
   "source": [
    "\n",
    "\n",
    "# Only Monday to friday dates\n",
    "pd.date_range(start=\"2025/1/2\" , end=\"2025/2/25\" , freq=\"B\")\n",
    "\n"
   ]
  },
  {
   "cell_type": "code",
   "execution_count": 44,
   "id": "ded4065d-8d30-46f4-b0be-21ad2c34cd3c",
   "metadata": {},
   "outputs": [
    {
     "data": {
      "text/plain": [
       "DatetimeIndex(['2025-01-02', '2025-01-09', '2025-01-16', '2025-01-23',\n",
       "               '2025-01-30', '2025-02-06', '2025-02-13', '2025-02-20'],\n",
       "              dtype='datetime64[ns]', freq='W-THU')"
      ]
     },
     "execution_count": 44,
     "metadata": {},
     "output_type": "execute_result"
    }
   ],
   "source": [
    "\n",
    "# Week first day sunday\n",
    "pd.date_range(start=\"2025/1/2\" , end=\"2025/2/25\" , freq=\"W\")\n",
    "\n",
    "\n",
    "# Week first day thu\n",
    "pd.date_range(start=\"2025/1/2\" , end=\"2025/2/25\" , freq=\"W-THU\")\n",
    "\n"
   ]
  },
  {
   "cell_type": "code",
   "execution_count": 46,
   "id": "9e15fe94-4a54-4f27-bb30-f0101f8fd5ce",
   "metadata": {},
   "outputs": [
    {
     "name": "stderr",
     "output_type": "stream",
     "text": [
      "C:\\Users\\ASUS\\AppData\\Local\\Temp\\ipykernel_12972\\2362017102.py:1: FutureWarning: 'H' is deprecated and will be removed in a future version, please use 'h' instead.\n",
      "  pd.date_range(start=\"2025/1/2\" , end=\"2025/2/25\" , freq=\"2H\")\n"
     ]
    },
    {
     "data": {
      "text/plain": [
       "DatetimeIndex(['2025-01-02 00:00:00', '2025-01-02 02:00:00',\n",
       "               '2025-01-02 04:00:00', '2025-01-02 06:00:00',\n",
       "               '2025-01-02 08:00:00', '2025-01-02 10:00:00',\n",
       "               '2025-01-02 12:00:00', '2025-01-02 14:00:00',\n",
       "               '2025-01-02 16:00:00', '2025-01-02 18:00:00',\n",
       "               ...\n",
       "               '2025-02-24 06:00:00', '2025-02-24 08:00:00',\n",
       "               '2025-02-24 10:00:00', '2025-02-24 12:00:00',\n",
       "               '2025-02-24 14:00:00', '2025-02-24 16:00:00',\n",
       "               '2025-02-24 18:00:00', '2025-02-24 20:00:00',\n",
       "               '2025-02-24 22:00:00', '2025-02-25 00:00:00'],\n",
       "              dtype='datetime64[ns]', length=649, freq='2h')"
      ]
     },
     "execution_count": 46,
     "metadata": {},
     "output_type": "execute_result"
    }
   ],
   "source": [
    "pd.date_range(start=\"2025/1/2\" , end=\"2025/2/25\" , freq=\"2H\")"
   ]
  },
  {
   "cell_type": "code",
   "execution_count": 52,
   "id": "894d1f17-6db0-42f0-8231-f0ae787aa0bb",
   "metadata": {},
   "outputs": [
    {
     "name": "stderr",
     "output_type": "stream",
     "text": [
      "C:\\Users\\ASUS\\AppData\\Local\\Temp\\ipykernel_12972\\4078127956.py:1: FutureWarning: 'M' is deprecated and will be removed in a future version, please use 'ME' instead.\n",
      "  pd.date_range(start=\"2025/1/2\" , end=\"2025/2/25\" , freq=\"M\")\n"
     ]
    },
    {
     "data": {
      "text/plain": [
       "DatetimeIndex(['2025-01-31'], dtype='datetime64[ns]', freq='ME')"
      ]
     },
     "execution_count": 52,
     "metadata": {},
     "output_type": "execute_result"
    }
   ],
   "source": [
    "pd.date_range(start=\"2025/1/2\" , end=\"2025/2/25\" , freq=\"M\")\n",
    "# pd.date_range(start=\"2025/1/2\" , end=\"2025/2/25\" , freq=\"ME\")\n",
    "# pd.date_range(start=\"2025/1/2\" , end=\"2025/2/25\" , freq=\"E\")"
   ]
  },
  {
   "cell_type": "code",
   "execution_count": null,
   "id": "c0912384-7de2-4044-8e07-d26f4278f4d8",
   "metadata": {},
   "outputs": [],
   "source": []
  },
  {
   "cell_type": "code",
   "execution_count": 58,
   "id": "71dd4aac-0128-426c-9740-c99dc523f11e",
   "metadata": {},
   "outputs": [
    {
     "name": "stderr",
     "output_type": "stream",
     "text": [
      "C:\\Users\\ASUS\\AppData\\Local\\Temp\\ipykernel_12972\\2957496804.py:1: FutureWarning: 'M' is deprecated and will be removed in a future version, please use 'ME' instead.\n",
      "  pd.date_range(start=\"2025/1/2\" , periods=30 , freq=\"M\" )\n"
     ]
    },
    {
     "data": {
      "text/plain": [
       "DatetimeIndex(['2025-01-31', '2025-02-28', '2025-03-31', '2025-04-30',\n",
       "               '2025-05-31', '2025-06-30', '2025-07-31', '2025-08-31',\n",
       "               '2025-09-30', '2025-10-31', '2025-11-30', '2025-12-31',\n",
       "               '2026-01-31', '2026-02-28', '2026-03-31', '2026-04-30',\n",
       "               '2026-05-31', '2026-06-30', '2026-07-31', '2026-08-31',\n",
       "               '2026-09-30', '2026-10-31', '2026-11-30', '2026-12-31',\n",
       "               '2027-01-31', '2027-02-28', '2027-03-31', '2027-04-30',\n",
       "               '2027-05-31', '2027-06-30'],\n",
       "              dtype='datetime64[ns]', freq='ME')"
      ]
     },
     "execution_count": 58,
     "metadata": {},
     "output_type": "execute_result"
    }
   ],
   "source": [
    "\n",
    "pd.date_range(start=\"2025/1/2\" , periods=30 , freq=\"M\" )\n"
   ]
  },
  {
   "cell_type": "code",
   "execution_count": null,
   "id": "82a54bc4-b314-4ebc-a420-2a0fe809f5d9",
   "metadata": {},
   "outputs": [],
   "source": []
  },
  {
   "cell_type": "code",
   "execution_count": null,
   "id": "cf7e7307-2522-4e37-9203-5b015752e878",
   "metadata": {},
   "outputs": [],
   "source": []
  },
  {
   "cell_type": "code",
   "execution_count": 70,
   "id": "0bd26245-802e-4cbb-a1b0-21fe20bcec5e",
   "metadata": {},
   "outputs": [
    {
     "data": {
      "text/plain": [
       "0    February\n",
       "1    December\n",
       "2         NaN\n",
       "dtype: object"
      ]
     },
     "execution_count": 70,
     "metadata": {},
     "output_type": "execute_result"
    }
   ],
   "source": [
    "\n",
    "# Ignore Wrong date\n",
    "\n",
    "s = pd.Series([\"2121/2/9\",\"2022/12/8\",\"2020/69/3\"])\n",
    "pd.to_datetime(s , errors=\"coerce\").dt.month_name()\n"
   ]
  },
  {
   "cell_type": "code",
   "execution_count": null,
   "id": "49ed3679-202b-4e70-b916-9f4d5e9078da",
   "metadata": {},
   "outputs": [],
   "source": [
    "\n",
    "\n"
   ]
  },
  {
   "cell_type": "code",
   "execution_count": 76,
   "id": "c06a1e07-e943-4a2a-a778-9bfc462d65ae",
   "metadata": {},
   "outputs": [
    {
     "data": {
      "text/html": [
       "<div>\n",
       "<style scoped>\n",
       "    .dataframe tbody tr th:only-of-type {\n",
       "        vertical-align: middle;\n",
       "    }\n",
       "\n",
       "    .dataframe tbody tr th {\n",
       "        vertical-align: top;\n",
       "    }\n",
       "\n",
       "    .dataframe thead th {\n",
       "        text-align: right;\n",
       "    }\n",
       "</style>\n",
       "<table border=\"1\" class=\"dataframe\">\n",
       "  <thead>\n",
       "    <tr style=\"text-align: right;\">\n",
       "      <th></th>\n",
       "      <th>Date</th>\n",
       "      <th>Account</th>\n",
       "      <th>Category</th>\n",
       "      <th>Subcategory</th>\n",
       "      <th>Note</th>\n",
       "      <th>INR</th>\n",
       "      <th>Income/Expense</th>\n",
       "      <th>Note.1</th>\n",
       "      <th>Amount</th>\n",
       "      <th>Currency</th>\n",
       "      <th>Account.1</th>\n",
       "    </tr>\n",
       "  </thead>\n",
       "  <tbody>\n",
       "    <tr>\n",
       "      <th>0</th>\n",
       "      <td>3/2/2022 10:11</td>\n",
       "      <td>CUB - online payment</td>\n",
       "      <td>Food</td>\n",
       "      <td>NaN</td>\n",
       "      <td>Brownie</td>\n",
       "      <td>50.0</td>\n",
       "      <td>Expense</td>\n",
       "      <td>NaN</td>\n",
       "      <td>50.0</td>\n",
       "      <td>INR</td>\n",
       "      <td>50.0</td>\n",
       "    </tr>\n",
       "    <tr>\n",
       "      <th>1</th>\n",
       "      <td>3/2/2022 10:11</td>\n",
       "      <td>CUB - online payment</td>\n",
       "      <td>Other</td>\n",
       "      <td>NaN</td>\n",
       "      <td>To lended people</td>\n",
       "      <td>300.0</td>\n",
       "      <td>Expense</td>\n",
       "      <td>NaN</td>\n",
       "      <td>300.0</td>\n",
       "      <td>INR</td>\n",
       "      <td>300.0</td>\n",
       "    </tr>\n",
       "    <tr>\n",
       "      <th>2</th>\n",
       "      <td>3/1/2022 19:50</td>\n",
       "      <td>CUB - online payment</td>\n",
       "      <td>Food</td>\n",
       "      <td>NaN</td>\n",
       "      <td>Dinner</td>\n",
       "      <td>78.0</td>\n",
       "      <td>Expense</td>\n",
       "      <td>NaN</td>\n",
       "      <td>78.0</td>\n",
       "      <td>INR</td>\n",
       "      <td>78.0</td>\n",
       "    </tr>\n",
       "  </tbody>\n",
       "</table>\n",
       "</div>"
      ],
      "text/plain": [
       "             Date               Account Category  Subcategory  \\\n",
       "0  3/2/2022 10:11  CUB - online payment     Food          NaN   \n",
       "1  3/2/2022 10:11  CUB - online payment    Other          NaN   \n",
       "2  3/1/2022 19:50  CUB - online payment     Food          NaN   \n",
       "\n",
       "               Note    INR Income/Expense  Note.1  Amount Currency  Account.1  \n",
       "0           Brownie   50.0        Expense     NaN    50.0      INR       50.0  \n",
       "1  To lended people  300.0        Expense     NaN   300.0      INR      300.0  \n",
       "2            Dinner   78.0        Expense     NaN    78.0      INR       78.0  "
      ]
     },
     "execution_count": 76,
     "metadata": {},
     "output_type": "execute_result"
    }
   ],
   "source": [
    "df = pd.read_csv('expense_data_1.csv')\n",
    "df.head(3)"
   ]
  },
  {
   "cell_type": "code",
   "execution_count": 78,
   "id": "ff6eda4a-e0ca-4833-a6c7-28034f147e3a",
   "metadata": {},
   "outputs": [],
   "source": [
    "df[\"Date\"] = pd.to_datetime(df[\"Date\"])"
   ]
  },
  {
   "cell_type": "code",
   "execution_count": 83,
   "id": "56d550e3-489a-4c23-ae9a-76d724536223",
   "metadata": {},
   "outputs": [
    {
     "data": {
      "text/plain": [
       "0      Wednesday\n",
       "1      Wednesday\n",
       "2        Tuesday\n",
       "3        Tuesday\n",
       "4        Tuesday\n",
       "         ...    \n",
       "272       Monday\n",
       "273       Monday\n",
       "274       Sunday\n",
       "275       Sunday\n",
       "276       Sunday\n",
       "Name: Date, Length: 277, dtype: object"
      ]
     },
     "execution_count": 83,
     "metadata": {},
     "output_type": "execute_result"
    }
   ],
   "source": [
    "df[\"Date\"].dt.day_name()"
   ]
  },
  {
   "cell_type": "code",
   "execution_count": 89,
   "id": "f61cf03a-0453-49f1-89dd-af00e446849d",
   "metadata": {},
   "outputs": [],
   "source": [
    "# df[\"Date\"].dt.is_month_end\n",
    "# df[\"Date\"].dt.is_quarter_end\n",
    "# df[\"Date\"].dt.is_quarter_start\n"
   ]
  },
  {
   "cell_type": "code",
   "execution_count": 90,
   "id": "31223eca-57fd-458b-83f4-1444b55dcba6",
   "metadata": {},
   "outputs": [
    {
     "data": {
      "text/plain": [
       "[<matplotlib.lines.Line2D at 0x26eb1b88410>]"
      ]
     },
     "execution_count": 90,
     "metadata": {},
     "output_type": "execute_result"
    },
    {
     "data": {
      "image/png": "[encoded data removed]",
      "text/plain": [
       "<Figure size 640x480 with 1 Axes>"
      ]
     },
     "metadata": {},
     "output_type": "display_data"
    }
   ],
   "source": [
    "import matplotlib.pyplot as plt\n",
    "plt.plot(df[\"Date\"] , df[\"INR\"])"
   ]
  },
  {
   "cell_type": "code",
   "execution_count": 91,
   "id": "cdcb918d-ebdc-43e6-bd57-789faf5760c5",
   "metadata": {},
   "outputs": [],
   "source": [
    "# Day name wise kharcha"
   ]
  },
  {
   "cell_type": "code",
   "execution_count": 92,
   "id": "36138dc5-c98f-4f8a-aee3-3ef67ca7d417",
   "metadata": {},
   "outputs": [],
   "source": [
    "df[\"day_name\"] = df[\"Date\"].dt.day_name()"
   ]
  },
  {
   "cell_type": "code",
   "execution_count": 101,
   "id": "0e4251dc-1c13-4fee-b1b7-3ea8f0d3dcd3",
   "metadata": {},
   "outputs": [
    {
     "data": {
      "text/plain": [
       "<Axes: xlabel='day_name'>"
      ]
     },
     "execution_count": 101,
     "metadata": {},
     "output_type": "execute_result"
    },
    {
     "data": {
      "image/png": "[encoded data removed]",
      "text/plain": [
       "<Figure size 640x480 with 1 Axes>"
      ]
     },
     "metadata": {},
     "output_type": "display_data"
    }
   ],
   "source": [
    "df.groupby([\"day_name\"])[\"INR\"].mean().plot(kind=\"bar\")"
   ]
  },
  {
   "cell_type": "code",
   "execution_count": 99,
   "id": "15a94090-561d-46e9-8f04-a5eaac2b3b41",
   "metadata": {},
   "outputs": [
    {
     "data": {
      "text/plain": [
       "<Axes: xlabel='month_name'>"
      ]
     },
     "execution_count": 99,
     "metadata": {},
     "output_type": "execute_result"
    },
    {
     "data": {
      "image/png": "[encoded data removed]",
      "text/plain": [
       "<Figure size 640x480 with 1 Axes>"
      ]
     },
     "metadata": {},
     "output_type": "display_data"
    }
   ],
   "source": [
    "df[\"month_name\"] = df[\"Date\"].dt.month_name()\n",
    "df.groupby([\"month_name\"])[\"INR\"].sum().plot(kind=\"bar\")"
   ]
  },
  {
   "cell_type": "code",
   "execution_count": 104,
   "id": "043a2fec-9aca-4f32-bf38-560f594f5cee",
   "metadata": {},
   "outputs": [
    {
     "data": {
      "text/plain": [
       "<Axes: >"
      ]
     },
     "execution_count": 104,
     "metadata": {},
     "output_type": "execute_result"
    },
    {
     "data": {
      "image/png": "[encoded data removed]",
      "text/plain": [
       "<Figure size 640x480 with 1 Axes>"
      ]
     },
     "metadata": {},
     "output_type": "display_data"
    }
   ],
   "source": [
    "df[df[\"Date\"].dt.is_month_end].plot(kind=\"bar\")"
   ]
  },
  {
   "cell_type": "code",
   "execution_count": null,
   "id": "ad5f782f-60a3-4928-abc6-6c114f116f2c",
   "metadata": {},
   "outputs": [],
   "source": []
  }
 ],
 "metadata": {
  "kernelspec": {
   "display_name": "Python 3 (ipykernel)",
   "language": "python",
   "name": "python3"
  },
  "language_info": {
   "codemirror_mode": {
    "name": "ipython",
    "version": 3
   },
   "file_extension": ".py",
   "mimetype": "text/x-python",
   "name": "python",
   "nbconvert_exporter": "python",
   "pygments_lexer": "ipython3",
   "version": "3.12.7"
  }
 },
 "nbformat": 4,
 "nbformat_minor": 5
}
