{
  "nbformat": 4,
  "nbformat_minor": 0,
  "metadata": {
    "colab": {
      "provenance": []
    },
    "kernelspec": {
      "name": "python3",
      "display_name": "Python 3"
    },
    "language_info": {
      "name": "python"
    }
  },
  "cells": [
    {
      "cell_type": "code",
      "execution_count": null,
      "metadata": {
        "id": "y10Htjf-LK7e"
      },
      "outputs": [],
      "source": [
        "# remove html tags\n",
        "\n",
        "import re\n",
        "def remove_html(data):\n",
        "    data=re.sub(r'<.*?>','',data)\n",
        "    return data"
      ]
    },
    {
      "cell_type": "code",
      "source": [
        "# remove urls\n",
        "\n",
        "def remove_url(data):\n",
        "    data=re.sub(r\"https://\\S+|www\\.\\S+\",'',data)\n",
        "    return data"
      ],
      "metadata": {
        "id": "XUo4xdBKLZVq"
      },
      "execution_count": null,
      "outputs": []
    },
    {
      "cell_type": "code",
      "source": [
        "# expand\n",
        "\n",
        "def remove_abb(data):\n",
        "    data = re.sub(r\"he's\", \"he is\", data)\n",
        "    data = re.sub(r\"there's\", \"there is\", data)\n",
        "    data = re.sub(r\"We're\", \"We are\", data)\n",
        "    data = re.sub(r\"That's\", \"That is\", data)\n",
        "    data = re.sub(r\"won't\", \"will not\", data)\n",
        "    data = re.sub(r\"they're\", \"they are\", data)\n",
        "    data = re.sub(r\"Can't\", \"Cannot\", data)\n",
        "    data = re.sub(r\"wasn't\", \"was not\", data)\n",
        "    data = re.sub(r\"don\\x89Ûªt\", \"do not\", data)\n",
        "    data= re.sub(r\"aren't\", \"are not\", data)\n",
        "    data = re.sub(r\"isn't\", \"is not\", data)\n",
        "    data = re.sub(r\"What's\", \"What is\", data)\n",
        "    data = re.sub(r\"haven't\", \"have not\", data)\n",
        "    data = re.sub(r\"hasn't\", \"has not\", data)\n",
        "    data = re.sub(r\"There's\", \"There is\", data)\n",
        "    data = re.sub(r\"He's\", \"He is\", data)\n",
        "    data = re.sub(r\"It's\", \"It is\", data)\n",
        "    data = re.sub(r\"You're\", \"You are\", data)\n",
        "    data = re.sub(r\"I'M\", \"I am\", data)\n",
        "    data = re.sub(r\"shouldn't\", \"should not\", data)\n",
        "    data = re.sub(r\"wouldn't\", \"would not\", data)\n",
        "    data = re.sub(r\"i'm\", \"I am\", data)\n",
        "    data = re.sub(r\"I\\x89Ûªm\", \"I am\", data)\n",
        "    data = re.sub(r\"I'm\", \"I am\", data)\n",
        "    data = re.sub(r\"Isn't\", \"is not\", data)\n",
        "    data = re.sub(r\"Here's\", \"Here is\", data)\n",
        "    data = re.sub(r\"you've\", \"you have\", data)\n",
        "    data = re.sub(r\"you\\x89Ûªve\", \"you have\", data)\n",
        "    data = re.sub(r\"we're\", \"we are\", data)\n",
        "    data = re.sub(r\"what's\", \"what is\", data)\n",
        "    data = re.sub(r\"couldn't\", \"could not\", data)\n",
        "    data = re.sub(r\"we've\", \"we have\", data)\n",
        "    data = re.sub(r\"it\\x89Ûªs\", \"it is\", data)\n",
        "    data = re.sub(r\"doesn\\x89Ûªt\", \"does not\", data)\n",
        "    data = re.sub(r\"It\\x89Ûªs\", \"It is\", data)\n",
        "    data = re.sub(r\"Here\\x89Ûªs\", \"Here is\", data)\n",
        "    data = re.sub(r\"who's\", \"who is\", data)\n",
        "    data = re.sub(r\"I\\x89Ûªve\", \"I have\", data)\n",
        "    data = re.sub(r\"y'all\", \"you all\", data)\n",
        "    data = re.sub(r\"can\\x89Ûªt\", \"cannot\", data)\n",
        "    data = re.sub(r\"would've\", \"would have\", data)\n",
        "    data = re.sub(r\"it'll\", \"it will\", data)\n",
        "    data = re.sub(r\"we'll\", \"we will\", data)\n",
        "    data = re.sub(r\"wouldn\\x89Ûªt\", \"would not\", data)\n",
        "    data = re.sub(r\"We've\", \"We have\", data)\n",
        "    data = re.sub(r\"he'll\", \"he will\", data)\n",
        "    data = re.sub(r\"Y'all\", \"You all\", data)\n",
        "    data = re.sub(r\"Weren't\", \"Were not\", data)\n",
        "    data = re.sub(r\"Didn't\", \"Did not\", data)\n",
        "    data = re.sub(r\"they'll\", \"they will\", data)\n",
        "    data = re.sub(r\"they'd\", \"they would\", data)\n",
        "    data = re.sub(r\"DON'T\", \"DO NOT\", data)\n",
        "    data = re.sub(r\"That\\x89Ûªs\", \"That is\", data)\n",
        "    data = re.sub(r\"they've\", \"they have\", data)\n",
        "    data = re.sub(r\"i'd\", \"I would\", data)\n",
        "    data = re.sub(r\"should've\", \"should have\", data)\n",
        "    data = re.sub(r\"You\\x89Ûªre\", \"You are\", data)\n",
        "    data = re.sub(r\"where's\", \"where is\", data)\n",
        "    data = re.sub(r\"Don\\x89Ûªt\", \"Do not\", data)\n",
        "    data = re.sub(r\"we'd\", \"we would\", data)\n",
        "    data = re.sub(r\"i'll\", \"I will\", data)\n",
        "    data = re.sub(r\"weren't\", \"were not\", data)\n",
        "    data = re.sub(r\"They're\", \"They are\", data)\n",
        "    data = re.sub(r\"Can\\x89Ûªt\", \"Cannot\", data)\n",
        "    data = re.sub(r\"you\\x89Ûªll\", \"you will\", data)\n",
        "    data = re.sub(r\"I\\x89Ûªd\", \"I would\", data)\n",
        "    data = re.sub(r\"let's\", \"let us\", data)\n",
        "    data = re.sub(r\"it's\", \"it is\", data)\n",
        "    data = re.sub(r\"can't\", \"cannot\", data)\n",
        "    data = re.sub(r\"don't\", \"do not\", data)\n",
        "    data = re.sub(r\"you're\", \"you are\", data)\n",
        "    data = re.sub(r\"i've\", \"I have\", data)\n",
        "    data = re.sub(r\"that's\", \"that is\", data)\n",
        "    data = re.sub(r\"i'll\", \"I will\", data)\n",
        "    data = re.sub(r\"doesn't\", \"does not\",data)\n",
        "    data = re.sub(r\"i'd\", \"I would\", data)\n",
        "    data = re.sub(r\"didn't\", \"did not\", data)\n",
        "    data = re.sub(r\"ain't\", \"am not\", data)\n",
        "    data = re.sub(r\"you'll\", \"you will\", data)\n",
        "    data = re.sub(r\"I've\", \"I have\", data)\n",
        "    data = re.sub(r\"Don't\", \"do not\", data)\n",
        "    data = re.sub(r\"I'll\", \"I will\", data)\n",
        "    data = re.sub(r\"I'd\", \"I would\", data)\n",
        "    data = re.sub(r\"Let's\", \"Let us\", data)\n",
        "    data = re.sub(r\"you'd\", \"You would\", data)\n",
        "    data = re.sub(r\"It's\", \"It is\", data)\n",
        "    data = re.sub(r\"Ain't\", \"am not\", data)\n",
        "    data = re.sub(r\"Haven't\", \"Have not\", data)\n",
        "    data = re.sub(r\"Could've\", \"Could have\", data)\n",
        "    data = re.sub(r\"youve\", \"you have\", data)\n",
        "    data = re.sub(r\"donå«t\", \"do not\", data)\n",
        "\n",
        "    return data"
      ],
      "metadata": {
        "id": "1YyOmEDpLdyN"
      },
      "execution_count": null,
      "outputs": []
    },
    {
      "cell_type": "code",
      "source": [
        "# spelling correction\n",
        "\n",
        "from textblob import TextBlob\n",
        "\n",
        "def correct_spelling(text):\n",
        "    return TextBlob(text).correct().string"
      ],
      "metadata": {
        "id": "erWUaOuYLjfR"
      },
      "execution_count": null,
      "outputs": []
    },
    {
      "cell_type": "code",
      "source": [
        "# replace special chars\n",
        "\n",
        "# '[^\\w\\s]',''"
      ],
      "metadata": {
        "id": "1GaCqrvnLqoy"
      },
      "execution_count": null,
      "outputs": []
    },
    {
      "cell_type": "code",
      "source": [
        "# ngrams analysis\n",
        "\n",
        "from nltk import ngrams\n",
        "\n",
        "pd.Series(ngrams(x,3)).value_counts()"
      ],
      "metadata": {
        "id": "guRsoRPCMIf5"
      },
      "execution_count": null,
      "outputs": []
    },
    {
      "cell_type": "code",
      "source": [
        "# wordcloud\n",
        "\n",
        "from wordcloud import WordCloud\n",
        "import matplotlib.pyplot as plt\n",
        "\n",
        "plt.figure(figsize = (20,20)) # Positive Review Text\n",
        "wc = WordCloud(width = 1600 , height = 800).generate(\" \".join(df['review']))\n",
        "plt.imshow(wc)"
      ],
      "metadata": {
        "id": "fEyNQAuAMaD2"
      },
      "execution_count": null,
      "outputs": []
    },
    {
      "cell_type": "code",
      "source": [
        "# BoW\n",
        "\n",
        "from sklearn.feature_extraction.text import CountVectorizer\n",
        "count_vectorizer = CountVectorizer(max_features=5000)\n",
        "bag_of_words = count_vectorizer.fit_transform(df['review'])\n",
        "bag_of_words = pd.DataFrame(bag_of_words.toarray(),columns = count_vectorizer.get_feature_names())"
      ],
      "metadata": {
        "id": "T1CuR-hcMir8"
      },
      "execution_count": null,
      "outputs": []
    },
    {
      "cell_type": "code",
      "source": [
        "# PCA\n",
        "\n",
        "from sklearn.decomposition import PCA\n",
        "\n",
        "pca = PCA(n_components=3)\n",
        "pca_result = pca.fit_transform(bag_of_words.values)"
      ],
      "metadata": {
        "id": "s8BRxc-8MmYs"
      },
      "execution_count": null,
      "outputs": []
    },
    {
      "cell_type": "code",
      "source": [
        "# POS tagging\n",
        "\n",
        "from nltk import pos_tag_sents\n",
        "\n",
        "pos_tag_sents(df['review'].apply(lambda x:x.split()))"
      ],
      "metadata": {
        "id": "nNRYcQ_ej8FW"
      },
      "execution_count": null,
      "outputs": []
    }
  ]
}