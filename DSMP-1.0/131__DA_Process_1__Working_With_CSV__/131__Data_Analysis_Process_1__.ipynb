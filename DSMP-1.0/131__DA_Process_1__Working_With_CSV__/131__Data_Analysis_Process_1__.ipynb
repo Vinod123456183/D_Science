{
 "cells": [
  {
   "cell_type": "code",
   "execution_count": 5,
   "id": "f834b06f-76fe-4fdc-99f1-9edc5dbdd048",
   "metadata": {},
   "outputs": [],
   "source": [
    "\n",
    "import numpy as np\n",
    "import pandas as pd \n",
    "import seaborn as sns\n",
    "\n"
   ]
  },
  {
   "cell_type": "markdown",
   "id": "15821602-9501-4cb3-b207-15ca7e324fab",
   "metadata": {},
   "source": [
    "# Problem when reading CSV"
   ]
  },
  {
   "cell_type": "markdown",
   "id": "99f22f92-257d-4b0b-a259-60abf97f24c5",
   "metadata": {},
   "source": [
    "\n",
    "Use Option 1 for simplicity.\n",
    "\n",
    "Use Option 2 when you need more control.\n"
   ]
  },
  {
   "cell_type": "code",
   "execution_count": 7,
   "id": "cc9ebdb7-247a-4d3c-bd37-890ef6665003",
   "metadata": {},
   "outputs": [],
   "source": [
    "\n",
    "url = \"https://raw.githubusercontent.com/cs109/2014_data/master/countries.csv\"\n",
    "df = pd.read_csv(url)\n"
   ]
  },
  {
   "cell_type": "code",
   "execution_count": 8,
   "id": "6c5f014e-04dd-4648-b176-e30a71435816",
   "metadata": {},
   "outputs": [],
   "source": [
    "\n",
    "\n",
    "import requests\n",
    "from io import StringIO\n",
    "\n",
    "url = \"https://raw.githubusercontent.com/cs109/2014_data/master/countries.csv\"\n",
    "headers = {\"User-Agent\": \"Mozilla/5.0 (Macintosh; Intel Mac OS X 10.14; rv:66.0) Gecko/20100101 Firefox/66.0\"}\n",
    "\n",
    "req = requests.get(url, headers=headers)\n",
    "data = StringIO(req.text)\n",
    "df=pd.read_csv(data)\n",
    "\n"
   ]
  },
  {
   "cell_type": "markdown",
   "id": "445428cd-5460-46ee-a62c-bf9ad081b4dc",
   "metadata": {},
   "source": [
    "# Sep"
   ]
  },
  {
   "cell_type": "code",
   "execution_count": 9,
   "id": "2db3dc6d-542a-435b-ac3b-4e22e7251c40",
   "metadata": {},
   "outputs": [],
   "source": [
    "# Reading tsv files \n",
    "\n",
    "# Because 1st row becomes top \n",
    "\n",
    "# pd.read_csv(\"data.tsv\" , sep=\"\\t\" , names = [\"sno\",  \"\"  ...])\n"
   ]
  },
  {
   "cell_type": "markdown",
   "id": "bc632708-d2cb-4f3c-b417-07503482307c",
   "metadata": {},
   "source": [
    "\n",
    "# index__col\n"
   ]
  },
  {
   "cell_type": "code",
   "execution_count": null,
   "id": "6b850acd-c0d0-4924-8b70-33b1e13d4e4a",
   "metadata": {},
   "outputs": [],
   "source": [
    "# Make id as index\n",
    "\n",
    "# pd.read_csv(\"data.csv\"  , index_col = \"enroll_id\" )\n"
   ]
  },
  {
   "cell_type": "markdown",
   "id": "5106d78f-0cf8-4eb7-823c-0180dfc54d1b",
   "metadata": {},
   "source": [
    "# Header Parameter"
   ]
  },
  {
   "cell_type": "code",
   "execution_count": 1,
   "id": "944c1fca-f135-4a44-84ea-be7a501d9f51",
   "metadata": {},
   "outputs": [],
   "source": [
    "# Kabhi main row "
   ]
  },
  {
   "cell_type": "markdown",
   "id": "aceb7623-ba3e-4f0f-b81d-dee65425975d",
   "metadata": {},
   "source": [
    "# Use_Cols"
   ]
  },
  {
   "cell_type": "code",
   "execution_count": 2,
   "id": "9420c740-a694-4126-91a1-e184a0d18746",
   "metadata": {},
   "outputs": [],
   "source": [
    "# Only kcuh hi column chaiye"
   ]
  },
  {
   "cell_type": "code",
   "execution_count": 3,
   "id": "e933b647-9f6e-4958-bb0b-22b331b5e0a0",
   "metadata": {},
   "outputs": [],
   "source": [
    "# readcsv( ,  usecols=[\"\"....])"
   ]
  },
  {
   "cell_type": "code",
   "execution_count": null,
   "id": "040b3aa9-18bf-4987-a443-f410a795b1f2",
   "metadata": {},
   "outputs": [],
   "source": []
  },
  {
   "cell_type": "markdown",
   "id": "0405ef63-34b9-4647-b3f4-f093574cc526",
   "metadata": {},
   "source": [
    "# Squeeze Parameter"
   ]
  },
  {
   "cell_type": "code",
   "execution_count": 5,
   "id": "2f55915d-fa07-475f-b1a7-86a5dee5969c",
   "metadata": {},
   "outputs": [],
   "source": [
    "# convert df to series\n",
    "\n",
    "# read..(usecols=[\"..\"] , squeeze=True)\n"
   ]
  },
  {
   "cell_type": "code",
   "execution_count": null,
   "id": "507d099c-faf6-46cc-9093-aaf5c7b77f0c",
   "metadata": {},
   "outputs": [],
   "source": []
  },
  {
   "cell_type": "markdown",
   "id": "a5cebc38-6f15-45b5-9174-4dbb24b238a4",
   "metadata": {},
   "source": [
    "# Skiprows , nrows helps for large datasets"
   ]
  },
  {
   "cell_type": "markdown",
   "id": "3183d5d8-f732-4b27-a3af-034ef7e27eee",
   "metadata": {},
   "source": [
    "# Encoding parameter"
   ]
  },
  {
   "cell_type": "code",
   "execution_count": 6,
   "id": "0966393e-3ea0-46ae-878c-e5ce6ff84b67",
   "metadata": {},
   "outputs": [],
   "source": [
    "# unicode error\n",
    "\n",
    "# read..(\"\" , encoding=\"latin-1\")\n"
   ]
  },
  {
   "cell_type": "markdown",
   "id": "5a85cd98-8ddc-41f9-ba01-52d061d60d31",
   "metadata": {},
   "source": [
    "# Skip bad lines"
   ]
  },
  {
   "cell_type": "code",
   "execution_count": 8,
   "id": "0a1d707f-e0e6-47b2-b9e2-9e4c3b736122",
   "metadata": {},
   "outputs": [],
   "source": [
    "# PARSER ERROR\n",
    "\n",
    "# Agar kisi row m koi extra column aa jaae toh we use this and it skips that line\n",
    "\n",
    "read.. (error_bad_lines=False)\n"
   ]
  },
  {
   "cell_type": "markdown",
   "id": "c4a8f99b-0b36-4021-8b0a-6a81bc4476d8",
   "metadata": {},
   "source": [
    "# dtype parameter"
   ]
  },
  {
   "cell_type": "code",
   "execution_count": null,
   "id": "ba4a66ba-f5fd-48b0-90ce-24a5e78fe86a",
   "metadata": {},
   "outputs": [],
   "source": [
    "\n",
    "# Kisi col ka data type change krna h toh \n",
    "\n",
    "pd.read(dtype={\"target\":int})\n"
   ]
  },
  {
   "cell_type": "markdown",
   "id": "85839ed0-1c0b-432e-a99c-379972bd4976",
   "metadata": {},
   "source": [
    "# Handling Date"
   ]
  },
  {
   "cell_type": "code",
   "execution_count": null,
   "id": "25f6e382-4105-492b-9a1e-7177e48d1359",
   "metadata": {},
   "outputs": [],
   "source": [
    "\n",
    "# Handle Dates using csv funtion not by pandas\n",
    "read...(parse_dates=[\"date\"]).info()\n"
   ]
  },
  {
   "cell_type": "code",
   "execution_count": null,
   "id": "304e01ab-6f33-4897-b9d4-6ff0ea39dd61",
   "metadata": {},
   "outputs": [],
   "source": []
  },
  {
   "cell_type": "markdown",
   "id": "37dad9c1-3f1f-48ce-ad62-a8464571c8d1",
   "metadata": {},
   "source": [
    "# Convertors"
   ]
  },
  {
   "cell_type": "code",
   "execution_count": 9,
   "id": "19331c60-4f16-4b5f-a740-16451fbdfdce",
   "metadata": {},
   "outputs": [
    {
     "data": {
      "text/plain": [
       "'RCB'"
      ]
     },
     "execution_count": 9,
     "metadata": {},
     "output_type": "execute_result"
    }
   ],
   "source": [
    "def rename(name):\n",
    "    if name == \"Royal C banglore\":\n",
    "        return \"RCB\"\n",
    "    else:\n",
    "        return name\n",
    "\n",
    "rename(\"Royal C banglore\")\n"
   ]
  },
  {
   "cell_type": "code",
   "execution_count": null,
   "id": "160c972d-5582-49c8-bd06-d2349c620fe9",
   "metadata": {},
   "outputs": [],
   "source": [
    "read...( , converters = {\"team1\" : rename})"
   ]
  },
  {
   "cell_type": "code",
   "execution_count": null,
   "id": "d7fa4679-a61f-426c-8b84-ac04a203abb9",
   "metadata": {},
   "outputs": [],
   "source": []
  },
  {
   "cell_type": "markdown",
   "id": "578e711e-a226-48a6-b02a-dcf00a304949",
   "metadata": {},
   "source": [
    "#  Na Value Parameter"
   ]
  },
  {
   "cell_type": "code",
   "execution_count": null,
   "id": "a8e4dfe8-8470-40cc-8f81-5fbb59c6ecfc",
   "metadata": {},
   "outputs": [],
   "source": []
  },
  {
   "cell_type": "markdown",
   "id": "da6f77ba-0220-4436-a979-f8264716b53f",
   "metadata": {},
   "source": [
    "# Dividing values in chunks"
   ]
  },
  {
   "cell_type": "code",
   "execution_count": null,
   "id": "88b7c83c-3e1a-4f60-b4b4-3489c97caa3a",
   "metadata": {},
   "outputs": [],
   "source": [
    "dfs = pd.reacc(... , chunksize=1000)\n",
    "\n",
    "for i in dfs:\n",
    "    print(i.shape)"
   ]
  },
  {
   "cell_type": "code",
   "execution_count": null,
   "id": "f5b7d781-cc1a-4b9c-9efa-1f87a2ec10c8",
   "metadata": {},
   "outputs": [],
   "source": []
  },
  {
   "cell_type": "code",
   "execution_count": null,
   "id": "668958d3-9067-44b1-9c71-88ceeffeeb01",
   "metadata": {},
   "outputs": [],
   "source": []
  },
  {
   "cell_type": "markdown",
   "id": "cce9738e-1e06-4396-ad15-2a9149a3563d",
   "metadata": {},
   "source": [
    "# ---------------------- Data In EXCEL--------------------------"
   ]
  },
  {
   "cell_type": "code",
   "execution_count": 12,
   "id": "e255c9c7-f6af-4ef3-bed9-f6c79b103166",
   "metadata": {},
   "outputs": [],
   "source": [
    "\n",
    "# pd.readcsv(... , index_col=\"index\" , sheet_name=\"Sheet_name_2\")\n"
   ]
  },
  {
   "cell_type": "code",
   "execution_count": null,
   "id": "58691e4d-7dba-448e-a86d-c43f8e064c03",
   "metadata": {},
   "outputs": [],
   "source": []
  },
  {
   "cell_type": "markdown",
   "id": "475adcfe-3686-4433-946e-d4fe04dc1839",
   "metadata": {},
   "source": [
    "# ---------------------- Data In txt file --------------------------"
   ]
  },
  {
   "cell_type": "code",
   "execution_count": 14,
   "id": "d0874b9d-f9c1-4713-baac-3cf7ab0756fb",
   "metadata": {},
   "outputs": [],
   "source": [
    "\n",
    "# First see data then convert \n",
    "read_csv( , sep=\"\\t\")\n"
   ]
  },
  {
   "cell_type": "code",
   "execution_count": null,
   "id": "340ffc13-e6f3-4df7-bb0c-73411591d9de",
   "metadata": {},
   "outputs": [],
   "source": []
  },
  {
   "cell_type": "markdown",
   "id": "f8767b60-dd04-4927-afd1-ff7f802f13ea",
   "metadata": {},
   "source": [
    "# ---------------------- Dealing with json and sql files --------------------------"
   ]
  },
  {
   "cell_type": "code",
   "execution_count": 15,
   "id": "c687e19f-2007-4b4b-85e6-550e7ada12d2",
   "metadata": {},
   "outputs": [],
   "source": [
    "\n",
    "# pd.read_json()"
   ]
  },
  {
   "cell_type": "markdown",
   "id": "2c196803-1481-4b1a-a44a-f4acd585dc05",
   "metadata": {},
   "source": [
    "# Dealing with sql"
   ]
  },
  {
   "cell_type": "code",
   "execution_count": 16,
   "id": "52942566-76b7-490e-9a60-4f0d202d2777",
   "metadata": {},
   "outputs": [],
   "source": [
    "# DAy 16 ML 100 \n"
   ]
  },
  {
   "cell_type": "code",
   "execution_count": null,
   "id": "9079fef3-62be-4dd5-b311-a2220635f828",
   "metadata": {},
   "outputs": [],
   "source": [
    "xamp > apache server > localhost phpmyadmin > mysql.connector > "
   ]
  },
  {
   "cell_type": "code",
   "execution_count": null,
   "id": "726a7b02-7259-4541-b3b6-e9c6f1bec00f",
   "metadata": {},
   "outputs": [],
   "source": []
  },
  {
   "cell_type": "markdown",
   "id": "28306afa-ce54-4831-b41b-03c670cb274c",
   "metadata": {},
   "source": [
    "# ---------------------- Export to File --------------------------"
   ]
  },
  {
   "cell_type": "code",
   "execution_count": null,
   "id": "002f09d0-6796-44f7-a31f-176c647c23bf",
   "metadata": {},
   "outputs": [],
   "source": [
    "# df.to_csv('' ,  index=False)"
   ]
  },
  {
   "cell_type": "code",
   "execution_count": null,
   "id": "353ce364-a3c1-49ad-95c3-cb8417a05557",
   "metadata": {},
   "outputs": [],
   "source": []
  },
  {
   "cell_type": "markdown",
   "id": "af40d596-db24-4014-8bf4-19eafac26d65",
   "metadata": {},
   "source": [
    "\n",
    "# webscrapping and api calling is left"
   ]
  },
  {
   "cell_type": "code",
   "execution_count": null,
   "id": "21121b4a-db35-45d0-bf90-b2b5288ed47e",
   "metadata": {},
   "outputs": [],
   "source": []
  },
  {
   "cell_type": "code",
   "execution_count": null,
   "id": "1c87b587-6a3e-4771-a712-ea67622bf51f",
   "metadata": {},
   "outputs": [],
   "source": []
  },
  {
   "cell_type": "code",
   "execution_count": null,
   "id": "300ebefa-b074-475f-8cce-b1f753dc055a",
   "metadata": {},
   "outputs": [],
   "source": []
  },
  {
   "cell_type": "code",
   "execution_count": null,
   "id": "1caf154d-30fe-403a-af21-70b5adcf5be5",
   "metadata": {},
   "outputs": [],
   "source": []
  },
  {
   "cell_type": "code",
   "execution_count": null,
   "id": "4ababdd7-c207-4eba-b81f-8589a1937911",
   "metadata": {},
   "outputs": [],
   "source": []
  },
  {
   "cell_type": "code",
   "execution_count": null,
   "id": "055317e6-2ecb-4247-8ece-d7976f549da6",
   "metadata": {},
   "outputs": [],
   "source": []
  },
  {
   "cell_type": "code",
   "execution_count": null,
   "id": "6c6307f4-7cad-4914-bf54-bcfbafe75972",
   "metadata": {},
   "outputs": [],
   "source": []
  },
  {
   "cell_type": "code",
   "execution_count": null,
   "id": "2266b3c9-b122-46cd-9fc3-3837ca54f3bf",
   "metadata": {},
   "outputs": [],
   "source": []
  },
  {
   "cell_type": "code",
   "execution_count": null,
   "id": "2d78b914-5ff5-4042-80c4-f8d2ec941722",
   "metadata": {},
   "outputs": [],
   "source": []
  },
  {
   "cell_type": "code",
   "execution_count": null,
   "id": "a55334a7-1657-4092-8983-31d7cf924e4b",
   "metadata": {},
   "outputs": [],
   "source": []
  }
 ],
 "metadata": {
  "kernelspec": {
   "display_name": "Python 3 (ipykernel)",
   "language": "python",
   "name": "python3"
  },
  "language_info": {
   "codemirror_mode": {
    "name": "ipython",
    "version": 3
   },
   "file_extension": ".py",
   "mimetype": "text/x-python",
   "name": "python",
   "nbconvert_exporter": "python",
   "pygments_lexer": "ipython3",
   "version": "3.12.7"
  }
 },
 "nbformat": 4,
 "nbformat_minor": 5
}
