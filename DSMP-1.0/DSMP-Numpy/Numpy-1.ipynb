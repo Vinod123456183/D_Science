{
 "cells": [
  {
   "cell_type": "code",
   "execution_count": 1,
   "id": "346e8456-2464-4e8b-ad24-43b5e96ae564",
   "metadata": {},
   "outputs": [],
   "source": [
    "import numpy as np"
   ]
  },
  {
   "cell_type": "code",
   "execution_count": 5,
   "id": "6e63f277-c0f1-4bc8-b2ba-df2ae3b877af",
   "metadata": {},
   "outputs": [
    {
     "name": "stdout",
     "output_type": "stream",
     "text": [
      "<class 'numpy.ndarray'>\n"
     ]
    }
   ],
   "source": [
    "\n",
    "a = np.array([1,2,3,4,6,5])\n",
    "print(type(a))\n"
   ]
  },
  {
   "cell_type": "code",
   "execution_count": 9,
   "id": "07175e9e-625d-4a60-b53a-faa4166fa5f6",
   "metadata": {},
   "outputs": [
    {
     "data": {
      "text/plain": [
       "array([[1, 2, 3],\n",
       "       [4, 5, 6]])"
      ]
     },
     "execution_count": 9,
     "metadata": {},
     "output_type": "execute_result"
    }
   ],
   "source": [
    "\n",
    "np.array([[1,2,3],[4,5,6]])\n"
   ]
  },
  {
   "cell_type": "code",
   "execution_count": 13,
   "id": "067396f1-1197-4751-a8e3-e9ee11f42004",
   "metadata": {},
   "outputs": [],
   "source": [
    "\n",
    "a = np.array([1,2],dtype=float)\n",
    "c = np.array([1,2],dtype=complex)\n"
   ]
  },
  {
   "cell_type": "code",
   "execution_count": 52,
   "id": "6a8f206d-4105-4daa-8ea2-81dfbf7b6d07",
   "metadata": {},
   "outputs": [
    {
     "data": {
      "text/plain": [
       "array([ 1,  4,  7, 10])"
      ]
     },
     "execution_count": 52,
     "metadata": {},
     "output_type": "execute_result"
    }
   ],
   "source": [
    "\n",
    "np.arange(1,11,3)\n"
   ]
  },
  {
   "cell_type": "code",
   "execution_count": 49,
   "id": "61645c4a-1bbe-446b-8d67-e1dd5e303c79",
   "metadata": {},
   "outputs": [
    {
     "data": {
      "text/plain": [
       "array([[ 1,  2,  3,  4,  5],\n",
       "       [ 6,  7,  8,  9, 10]])"
      ]
     },
     "execution_count": 49,
     "metadata": {},
     "output_type": "execute_result"
    }
   ],
   "source": [
    "\n",
    "# product = no of ele present inside array\n",
    "np.arange(1,11).reshape(2,5)\n"
   ]
  },
  {
   "cell_type": "code",
   "execution_count": 32,
   "id": "a044df82-369b-480e-9ad0-7ea607ca7801",
   "metadata": {},
   "outputs": [
    {
     "data": {
      "text/plain": [
       "array([[0., 0., 0., 0., 0., 0.],\n",
       "       [0., 0., 0., 0., 0., 0.],\n",
       "       [0., 0., 0., 0., 0., 0.],\n",
       "       [0., 0., 0., 0., 0., 0.]])"
      ]
     },
     "execution_count": 32,
     "metadata": {},
     "output_type": "execute_result"
    }
   ],
   "source": [
    "\n",
    "# for initilising \n",
    "np.ones((4,6))\n",
    "np.zeros((4,6))\n"
   ]
  },
  {
   "cell_type": "code",
   "execution_count": 61,
   "id": "ef016c39-44c2-487a-97a7-a5e5909f1ad6",
   "metadata": {},
   "outputs": [
    {
     "data": {
      "text/plain": [
       "array([[3.53399283, 2.85311634, 2.4119767 , 1.15744722],\n",
       "       [2.58567542, 3.30829643, 0.01198481, 3.45327768],\n",
       "       [8.13083895, 7.65413399, 0.0300851 , 9.0015269 ]])"
      ]
     },
     "execution_count": 61,
     "metadata": {},
     "output_type": "execute_result"
    }
   ],
   "source": [
    "np.random.random((3,4))*10"
   ]
  },
  {
   "cell_type": "code",
   "execution_count": 55,
   "id": "f7bc9dfa-ee39-48de-9868-91b681e04e4b",
   "metadata": {},
   "outputs": [
    {
     "data": {
      "text/plain": [
       "array([-10,  -8,  -6,  -4,  -2,   1,   3,   5,   7,  10])"
      ]
     },
     "execution_count": 55,
     "metadata": {},
     "output_type": "execute_result"
    }
   ],
   "source": [
    "\n",
    "# equal distance pr points generate krta h with equal distance \n",
    "np.linspace(-10 , 10 , 10 , dtype=int)\n"
   ]
  },
  {
   "cell_type": "code",
   "execution_count": 51,
   "id": "73ae7e78-1052-486c-888c-21ac5f3c8354",
   "metadata": {},
   "outputs": [
    {
     "data": {
      "text/plain": [
       "array([[1., 0., 0., 0., 0.],\n",
       "       [0., 1., 0., 0., 0.],\n",
       "       [0., 0., 1., 0., 0.],\n",
       "       [0., 0., 0., 1., 0.],\n",
       "       [0., 0., 0., 0., 1.]])"
      ]
     },
     "execution_count": 51,
     "metadata": {},
     "output_type": "execute_result"
    }
   ],
   "source": [
    "\n",
    "np.identity(5)\n"
   ]
  },
  {
   "cell_type": "code",
   "execution_count": 65,
   "id": "12698ea4-d814-4679-973c-342467ba7be9",
   "metadata": {},
   "outputs": [],
   "source": [
    "\n",
    "a1 = np.arange(10)\n",
    "a2 = np.arange(12,dtype=float).reshape(3,4)\n",
    "a3 = np.arange(8).reshape(2,2,2)\n"
   ]
  },
  {
   "cell_type": "code",
   "execution_count": 72,
   "id": "917a4762-c4d7-4edf-a04c-154cdcdc571d",
   "metadata": {},
   "outputs": [
    {
     "data": {
      "text/plain": [
       "(3, 4)"
      ]
     },
     "execution_count": 72,
     "metadata": {},
     "output_type": "execute_result"
    }
   ],
   "source": [
    "\n",
    "a1.ndim\n",
    "a2.ndim\n",
    "a3.ndim\n"
   ]
  },
  {
   "cell_type": "code",
   "execution_count": 82,
   "id": "464bab9e-13cf-41a8-8582-d45221bf0653",
   "metadata": {},
   "outputs": [
    {
     "name": "stdout",
     "output_type": "stream",
     "text": [
      "10\n",
      "12\n",
      "8\n",
      "\n",
      "int32\n",
      "float64\n",
      "int32\n",
      "\n",
      "10\n",
      "12\n",
      "8\n",
      "\n"
     ]
    }
   ],
   "source": [
    "\n",
    "print(a1.size)\n",
    "print(a2.size)\n",
    "print(a3.size)\n",
    "print()\n",
    "\n",
    "print(a1.dtype)\n",
    "print(a2.dtype)\n",
    "print(a3.dtype)\n",
    "print()\n",
    "\n",
    "print(a1.size)\n",
    "print(a2.size)\n",
    "print(a3.size)\n",
    "print()\n",
    "\n",
    "\n"
   ]
  },
  {
   "cell_type": "code",
   "execution_count": 85,
   "id": "6114882c-8d7a-432d-be0e-e157d56f5f9e",
   "metadata": {},
   "outputs": [
    {
     "data": {
      "text/plain": [
       "array([[  0,  10,  20,  30],\n",
       "       [ 40,  50,  60,  70],\n",
       "       [ 80,  90, 100, 110]])"
      ]
     },
     "execution_count": 85,
     "metadata": {},
     "output_type": "execute_result"
    }
   ],
   "source": [
    "\n",
    "# astype to reduce no like decrease age  \n",
    "a2.astype(np.int32)\n"
   ]
  },
  {
   "cell_type": "code",
   "execution_count": 87,
   "id": "e6f286dd-5637-4bbf-85d8-d42b4eea9f73",
   "metadata": {},
   "outputs": [
    {
     "data": {
      "text/plain": [
       "array([[False, False,  True, False],\n",
       "       [False, False, False, False],\n",
       "       [False, False, False, False]])"
      ]
     },
     "execution_count": 87,
     "metadata": {},
     "output_type": "execute_result"
    }
   ],
   "source": [
    "\n",
    "a2.astype(np.int32) == 2\n"
   ]
  },
  {
   "cell_type": "code",
   "execution_count": 94,
   "id": "253a39f8-057b-4902-a8a4-f73cdd446841",
   "metadata": {},
   "outputs": [
    {
     "data": {
      "text/plain": [
       "6.0"
      ]
     },
     "execution_count": 94,
     "metadata": {},
     "output_type": "execute_result"
    }
   ],
   "source": [
    "\n",
    "a2[1][2]\n"
   ]
  },
  {
   "cell_type": "code",
   "execution_count": 96,
   "id": "5d670848-3e2b-4ef8-ae6f-d15036c1fcc3",
   "metadata": {},
   "outputs": [
    {
     "data": {
      "text/plain": [
       "5"
      ]
     },
     "execution_count": 96,
     "metadata": {},
     "output_type": "execute_result"
    }
   ],
   "source": [
    "a3[1,0,1]"
   ]
  },
  {
   "cell_type": "code",
   "execution_count": 97,
   "id": "2b63bc06-c85c-46ca-a72b-ebffe59fa96a",
   "metadata": {},
   "outputs": [
    {
     "data": {
      "text/plain": [
       "array([[[0, 1],\n",
       "        [2, 3]],\n",
       "\n",
       "       [[4, 5],\n",
       "        [6, 7]]])"
      ]
     },
     "execution_count": 97,
     "metadata": {},
     "output_type": "execute_result"
    }
   ],
   "source": [
    "a3"
   ]
  },
  {
   "cell_type": "code",
   "execution_count": null,
   "id": "c21744c1-f940-4bdd-b905-4a05adb9dbd8",
   "metadata": {},
   "outputs": [],
   "source": []
  }
 ],
 "metadata": {
  "kernelspec": {
   "display_name": "Python 3 (ipykernel)",
   "language": "python",
   "name": "python3"
  },
  "language_info": {
   "codemirror_mode": {
    "name": "ipython",
    "version": 3
   },
   "file_extension": ".py",
   "mimetype": "text/x-python",
   "name": "python",
   "nbconvert_exporter": "python",
   "pygments_lexer": "ipython3",
   "version": "3.12.7"
  }
 },
 "nbformat": 4,
 "nbformat_minor": 5
}
